{
 "cells": [
  {
   "cell_type": "markdown",
   "metadata": {
    "tags": []
   },
   "source": [
    "<p>\n",
    "<center>\n",
    "<b>\n",
    "<h3>\n",
    "A database of the healthy human spinal cord morphometry in the PAM50 template space\n",
    "</h3>\n",
    "\n",
    "<p style=\"text-align:center;\">\n",
    "Jan Valošek<sup>*1,2,3,4</sup>, Sandrine Bédard<sup>*1</sup>, Miloš Keřkovský<sup>5</sup>, Tomáš Rohan<sup>5</sup>, Julien Cohen-Adad<sup>1,2,6,7</sup>\n",
    "</p>\n",
    "</b>\n",
    "\n",
    "<ul style=\"list-style-type: none\">\n",
    "<li><sup>*</sup> Shared co-first authorship - authors contributed equally</li>\n",
    "<li><sup>1</sup>NeuroPoly Lab, Institute of Biomedical Engineering, Polytechnique Montreal, Montreal, QC, Canada</li>\n",
    "<li><sup>2</sup>Mila - Quebec AI Institute, Montreal, QC, Canada</li>\n",
    "<li><sup>3</sup>Department of Neurosurgery, Faculty of Medicine and Dentistry, Palacký University Olomouc, Olomouc, Czechia</li>\n",
    "<li><sup>4</sup>Department of Neurology, Faculty of Medicine and Dentistry, Palacký University Olomouc, Olomouc, Czechia</li>\n",
    "<li><sup>5</sup>Department of Radiology and Nuclear Medicine, University Hospital Brno and Masaryk University, Brno, Czechia</li>\n",
    "<li><sup>6</sup>Functional Neuroimaging Unit, CRIUGM, Université de Montréal, Montreal, QC, Canada</li>\n",
    "<li><sup>7</sup>Centre de Recherche du CHU Sainte-Justine, Université de Montréal, Montreal, QC, Canada</li>\n",
    "</ul>\n",
    "</center>\n",
    "</p>\n",
    "\n"
   ]
  },
  {
   "cell_type": "markdown",
   "metadata": {},
   "source": [
    "# Abstract\n",
    "\n",
    "\n",
    "Measures of spinal cord morphometry computed from magnetic resonance images serve as relevant prognostic biomarkers for a range of spinal cord pathologies, including traumatic and non-traumatic spinal cord injury and neurodegenerative diseases. However, interpreting these imaging biomarkers is difficult due to considerable intra- and inter-subject variability. Yet, there is no clear consensus on a normalization method that would help reduce this variability and more insights into the distribution of these morphometrics are needed. In this study, we computed a database of normative values for six commonly used measures of spinal cord morphometry: cross-sectional area, anteroposterior diameter, transverse diameter, compression ratio, eccentricity, and solidity. Normative values were computed from a large open-access dataset of healthy adult volunteers (N = 203) and were brought to the common space of the PAM50 spinal cord template using a newly proposed normalization method based on linear interpolation. In comparison to traditional image-based registration, the proposed normalization approach does not involve image transformations and, therefore, does not introduce distortions of spinal cord anatomy. This is a crucial consideration in preserving the integrity of the spinal cord anatomy in conditions such as spinal cord injury. This new morphometric database allows researchers to normalize based on sex and age, thereby minimizing inter-subject variability associated with demographic and biological factors. The proposed methodology is open-source and accessible through the Spinal Cord Toolbox (SCT) v6.0 and higher."
   ]
  },
  {
   "cell_type": "markdown",
   "metadata": {
    "jp-MarkdownHeadingCollapsed": true,
    "tags": []
   },
   "source": [
    "# 1. INTRODUCTION\n",
    "\n",
    "\n",
    "## 1.1 Spinal cord morphometry measures\n",
    "\n",
    "\n",
    "The spinal cord plays a vital role in the central nervous system by transmitting sensory and motor signals between the brain and the rest of the body. It also contains essential networks responsible for functions such as locomotion and pain processing. Structural magnetic resonance imaging (MRI) is commonly used to assess spinal cord macrostructure and to compute measures of spinal cord morphometry like cross-sectional area (CSA) or anteroposterior (AP) diameter. The morphometric measures serve as objective indicators to evaluate spinal cord pathologies, such as the extent of spinal cord atrophy in multiple sclerosis {cite:p}`Losseff1996-py,Mina2021-xs,Rocca2019-yc` and amyotrophic lateral sclerosis {cite:p}`ElMendili2023-ws,Paquin2018-kf` or the severity of spinal cord injury and spinal cord compression in traumatic and non-traumatic spinal cord injury, respectively {cite:p}`Badhiwala2020-qh,David2019-jc,Miyanji2007-za`.\n",
    "\n",
    "\n",
    "However, interpreting morphometric measures is challenging due to considerable inter-subject variability associated with demographic and biological factors. For example, significantly smaller CSA is consistently reported in females relative to males {cite:p}`Bedard2022-tr,Engl2013-xx,Mina2021-xs,Papinutto2015-ov,Papinutto2020-hn,Rashid2006-ar,Solstrand2020-xz,Yanase2006-xz`. Similarly, studies showed an association of spinal cord CSA with cervical cord length {cite:p}`Martin2017-cf,Martin2017-zu,Oh2014-du`, spinal canal area, and spinal canal diameters {cite:p}`Kesenheimer2021-vw,Papinutto2020-hn`. Other factors, such as brain volume, intracranial volume, and thalamic volume also showed a strong correlation with spinal cord CSA {cite:p}`Bedard2022-tr,Papinutto2020-hn,Rashid2006-ar,Solstrand2020-xz`. \n",
    "\n",
    "\n",
    "As for weight and height, studies showed only a moderate correlation with spinal cord CSA {cite:p}`Papinutto2020-hn,Yanase2006-xz` or did not show any significant association {cite:p}`Bedard2022-tr,Papinutto2020-hn,Solstrand2020-xz`. Likewise, only a weak non-significant association was reported between spinal cord CSA and age {cite:p}`Bedard2022-tr,Kato2012-iy,Papinutto2020-hn,Yanase2006-xz`. A single study with a wide cohort age range reported that CSA increases until about 45 years of age and then begins to decrease {cite:p}`Papinutto2020-hn`.\n",
    "\n",
    "\n",
    "In addition to inter-subject variability, spinal cord anatomy varies depending on the level. Corresponding with anatomical textbooks {cite:p}`Standring2020-er`, studies have shown an increase in CSA around vertebral levels C4-C5 corresponding to cervical enlargement {cite:p}`DeLeener2018-zm,Frostell2016-yw,Horakova2022-gz,Martin2017-zu,Mina2021-xs,Rocca2019-yc`. Then, the spinal cord cross-section becomes smaller, which is mirrored by the decrease in CSA. \n",
    "\n",
    "\n",
    "## 1.2 Normalization strategies\n",
    "\n",
    "\n",
    "Various normalization strategies have been proposed to account for the above-mentioned factors on spinal cord morphometric measures. Sex was used for CSA normalization in several works {cite:p}`Bedard2022-tr,Kesenheimer2021-vw,Papinutto2020-hn,Rashid2006-ar`. Other studies proposed spinal cord length as a normalization factor {cite:p}`ElMendili2023-ws,Martin2017-cf,Martin2017-zu,Rocca2019-yc,Oh2014-du`. Additionally, combining spinal cord length with a z-score normalization was proposed to account for variations along the superior-inferior axis {cite:p}`Martin2017-cf,Martin2017-zu`. Another approach taking into account the dependency of spinal cord anatomy on a level involved the normalization of morphometric measures from the compression site using non-compressed levels above and below {cite:p}`Guo2022-qb,Miyanji2007-za`. Finally, several studies normalized CSA using the spinal canal and brain metrics, including spinal canal area, spinal canal diameter, brain volume, intracranial volume, thalamic volume, and head size normalization factor {cite:p}`Bedard2022-tr,Horsfield2010-gx,Kesenheimer2021-vw,Papinutto2020-hn,Rashid2006-ar,Rocca2019-yc`. \n",
    "\n",
    "\n",
    "While normalization strategies showed promising outcomes, there is currently no accepted consensus on which method to use {cite:p}`Cohen2021-generic,Papinutto2020-hn`, and their practical implementation may encounter several challenges. First, measuring the spinal cord length and the spinal canal area can be time-consuming due to the absence of reliable automatic measurement techniques. Second, obtaining brain MRI scans, necessary for assessing brain and thalamic volumes, may not be routinely available in spinal cord MRI protocols, and neurodegenerative diseases such as multiple sclerosis can influence brain measurements and potentially introduce bias during normalization.\n",
    "\n",
    "\n",
    "## 1.3 Spinal cord template\n",
    "\n",
    "\n",
    "Similarly to brain studies, spinal cord studies involving multiple subjects frequently rely on templates — standardized, high-resolution images of the human spinal cord used as a reference for comparing and analyzing individual spinal cord scans. A commonly used spinal cord template is the PAM50 {cite:p}`DeLeener2018-zm`. The process of aligning individual single-subject images to the template typically involves a series of non-linear image transformations, which may introduce inaccuracies when computing morphometric measures in the PAM50 vs. in the native subject’s space. This is an important consideration, especially in subjects with altered spinal cord anatomy, such as patients with spinal cord injury. \n",
    "\n",
    "\n",
    "## 1.4 Normative values\n",
    "\n",
    "\n",
    "Several multi-subject studies have provided normative values for spinal cord morphometry {cite:p}`DeLeener2018-zm,Frostell2016-yw,Horakova2022-gz,Kato2012-iy,Taso2016-cv`. However, these studies show inconsistency in their reporting. Some authors only provided values for intervertebral discs {cite:p}`DeLeener2018-zm,Horakova2022-gz`, while others presented values averaged across multiple vertebral levels {cite:p}`Taso2016-cv`. Notably, none of these studies have presented normative values separated by sex.\n",
    "\n",
    "\n",
    "## 1.5 Study Objective\n",
    "\n",
    "\n",
    "In this study, we present a database of healthy normative values for six commonly used measures of spinal cord morphometry built using a new fully-automatic normalization approach. The database is interactive, available [online](https://preprint.neurolibre.org/10.55458/neurolibre.00017) and allows filtering by sex, age, and MRI vendors. The proposed methodology is open-source, easily accessible through the Spinal Cord Toolbox (SCT) {cite:p}`DeLeener2017-fe`, and can be used in future multi-subject studies to minimize inter- and intra-subject variability."
   ]
  },
  {
   "cell_type": "markdown",
   "metadata": {},
   "source": [
    "# 2. MATERIALS AND METHODS\n",
    "\n",
    "## 2.1 Participants\n",
    "\n",
    "We used data from the  _spine-generic_ multi-subject dataset {cite:p}`Cohen2021-open`. The dataset is open-access, organized according to the Brain Imaging Data Structure (BIDS) standard {cite:p}`Gorgolewski2016-xf,Karakuzu2022-bids` and managed using [git-annex](href=\"https://git-annex.branchable.com) in [this GitHub repository](https://github.com/spine-generic/data-multi-subject/tree/r20230223).\n",
    "\n",
    "Participants were scanned across 43 centers on 3T MRI scanners from 3 vendors (GE, Philips and Siemens) using the consensus _spine-generic_ acquisition protocol {cite:p}`Cohen2021-generic`. For details on sequence parameters, see {cite:t}`Cohen2021-generic,Cohen2021-open`.\n",
    "\n",
    "\n",
    "Two experienced radiologists (MK, TR) evaluated MRI scans with a focus on the presence of spinal cord compression. Spinal cord compression was defined as a change in spinal cord contour at the level of an intervertebral disc on an axial or sagittal MRI plane compared with that at the midpoint level of neighbouring vertebrae {cite:p}`Kadanka2017-cu,Kerkovsky2017-tw`. Minor abnormalities such as mild disc protrusions, spine misalignment or minimal widening of the spinal cord central canal were not considered significant pathologies.\n",
    "\n",
    "Qualitative assessment of the _spine-generic_ dataset by two experienced radiologists revealed mostly mild spinal cord compression in 64 out of the total 267 volunteers (see the “pathology” column in [this spreadsheet](https://github.com/spine-generic/data-multi-subject/blob/r20230223/participants.tsv)). Those volunteers were excluded from the further analysis. The final cohort used for the normative database construction consisted of 203 healthy subjects (105 males and 98 females). Detailed demographic characteristics are provided in Table 1.\n"
   ]
  },
  {
   "cell_type": "code",
   "execution_count": null,
   "metadata": {
    "tags": [
     "report-output",
     "hide-input"
    ]
   },
   "outputs": [],
   "source": [
    "import os\n",
    "from IPython.display import display, HTML\n",
    "from plotly.offline import plot\n",
    "\n",
    "cwd = os.getcwd()\n",
    "os.chdir('analysis/notebooks')\n",
    "from tables import table_demographic_characteristics\n",
    "os.chdir(cwd)\n",
    "\n",
    "# Define path to the CSV file\n",
    "path_csv = '../data/PAM50-normalized-metrics-neurolibre/PAM50-normalized-metrics-neurolibre/table_1-demographic_characteristics.csv'\n",
    "\n",
    "# Render plotly output in Jupyter Book\n",
    "table1 = table_demographic_characteristics(path_csv, output='html')\n",
    "plot(table1, filename = 'table1.html')\n",
    "display(HTML('table1.html'))"
   ]
  },
  {
   "cell_type": "markdown",
   "metadata": {},
   "source": [
    "<p class=\"caption\">\n",
    "<b>TABLE 1</b> The demographic characteristics of subjects included in the normative database. The values are shown as mean and standard deviation.\n",
    "</p>"
   ]
  },
  {
   "cell_type": "markdown",
   "metadata": {},
   "source": [
    "## 2.2 Data pre-processing\n",
    "\n",
    "\n",
    "We used the T2-weighted images (0.8 mm isotropic resolution) covering at least C1 to T1 vertebral levels. The image processing was performed automatically using SCT v6.0 {cite:p}`DeLeener2017-fe`. For each participant, the spinal cord was segmented using a deep learning-based algorithm {cite:p}`Gros2019-yi` and the intervertebral discs were labeled {cite:p}`Ullmann2014-zm` to generate the cord segmentation labeled with vertebral levels (Figure 1A).\n",
    "\n",
    "\n",
    "The spinal cord segmentation and disc labels were visually inspected using SCT’s quality control report (`sct_qc` function) and manually corrected when necessary. The manual corrections ensured that the spinal cord segmentation masks used for the computation of morphometric measures were reliable. Segmentation masks were corrected using FSLeyes image viewer {cite:p}`McCarthy2019-qd` by adding or removing voxels when appropriate. Regarding vertebral labeling corrections, we manually identified the posterior tip of the intervertebral discs using SCT’s `sct_label_utils` function when it was necessary.\n",
    "\n",
    "\n",
    "## 2.3 Normalization\n",
    "\n",
    "\n",
    "Figure 1 shows a schematic representation of the fully-automatic normalization approach based on linear interpolation of morphometric measures from the subject’s native space to the anatomical dimensions of the PAM50 spinal cord template {cite:p}`DeLeener2018-zm`.\n",
    "\n",
    "\n",
    "After the preprocessing (i.e., spinal cord segmentation and labeling), the morphometric measures were computed across individual axial slices from the spinal cord segmentation mask in the subject’s native space. Then, the number of axial slices corresponding to each vertebral level was identified in both the subject’s native space and in the PAM50 template based on the labeled segmentation. Finally, the computed morphometric measures were linearly interpolated to the PAM50 anatomical dimensions based on the number of slices for each vertebral level in the native space and the PAM50 template."
   ]
  },
  {
   "cell_type": "markdown",
   "metadata": {},
   "source": [
    "```{image} images/fig1.png\n",
    "---\n",
    "width: 900px\n",
    "name: fig1\n",
    "align: center\n",
    "---\n",
    "```\n",
    "\n",
    "<p></p>\n",
    "\n",
    "<p class=\"caption\">\n",
    "<b>FIGURE 1</b> Schematic representation of the normalization approach. <b>(A)</b> T2-weighted images of 203 participants from the <i>spine-generic</i> dataset (multi-subject) were used. The spinal cord was segmented, and vertebral levels were identified automatically using the Spinal Cord Toolbox (SCT). <b>(B)</b> Six morphometric measures were computed for each axial slice from the single-subject segmentation masks. <b>(C)</b> For each level, the number of slices in the subject native space and the corresponding level in the PAM50 template <b>(D)</b> were identified. Then, the morphometric measures were linearly interpolated to the PAM50 space using the number of slices in the PAM50 template and the subject native space for each vertebral level.\n",
    "</p>"
   ]
  },
  {
   "cell_type": "markdown",
   "metadata": {},
   "source": [
    "The following morphometric measures were computed using SCT’s `sct_process_segmentation` for each participant: cross-sectional area (CSA), anteroposterior (AP) diameter, transverse diameter, compression ratio, eccentricity, and solidity. \n",
    "\n",
    "\n",
    "Spinal cord CSA reflects the atrophy of the spinal cord and is computed as the area of the spinal cord in the transverse plane. The AP diameter is the measurement of the diameter of the spinal cord in the anterior-posterior direction, while the transverse diameter is the measurement of the diameter of the spinal cord from side to side. The compression ratio reflects the flattening of the spinal cord and is defined as the ratio of the AP diameter and the transverse diameter. Eccentricity is defined as the ratio of the focal distance over the major axis length of an ellipse with the same second moments as the spinal cord. The value is in the interval `[0, 1]`. When it is 0, the ellipse becomes a circle. Solidity is used to measure the indentation of the spinal cord and is defined as the ratio of the area representing the spinal cord to the area of the smallest convex polygon surrounding all positive pixels in the image. Solidity is relevant in detecting non-convex shapes, for instance, in subjects with spinal cord compression.\n",
    "\n",
    "\n",
    "## 2.4 Normative values and interactive database\n",
    "\n",
    "\n",
    "Morphometric measures normalized to the PAM50 space were used for the calculation of normative values of the spinal cord morphometry. The normative values were calculated as mean and standard deviation across participants for slices in PAM50 space corresponding to each intervertebral disc and the middle of each vertebral level. The normative values are provided for the whole cohort and separated by sex.\n",
    "For convenient introspection of the morphometric measures, interactive figures were created using the [Plotly](https://plotly.com) Python library `v5.9.0`. The figures allow interactive visualization of normative values for any slice in the PAM50 space and filtering for sex, age decades, and MRI vendors. The figures show values per slice (instead of per vertebral level), to prevent the loss of information that would arise if values were averaged within each vertebral level. \n",
    "\n",
    "\n",
    "## 2.5 Statistical analysis\n",
    "\n",
    "\n",
    "Statistical analysis was conducted using the SciPy Python library `v1.10.1` {cite:p}`Virtanen2020-hl`. Descriptive statistics, including mean and standard deviation, were computed for age, height, and weight. The Shapiro-Wilk normality test was used to assess data normality. Differences between males and females in age, height, and weight were examined using the Wilcoxon rank-sum test. Morphometric measures in PAM50 space were averaged across participants for each slice and compared between sex and MRI vendors using the Wilcoxon rank-sum test. The significance level was set to `alpha = 0.001`.\n",
    "\n",
    "The inter-subject coefficient of variation (COV), defined as the ratio of standard deviation and mean, was computed per slice for all morphometrics measures. The COV was then averaged for individual vertebral levels. Additionally, the mean COV for the whole cervical spinal cord was computed as average across all slices."
   ]
  },
  {
   "cell_type": "markdown",
   "metadata": {},
   "source": [
    "# 3. RESULTS\n",
    "\n",
    "## 3.1 Morphometric measures - Variation across vertebral levels\n",
    "\n",
    "\n",
    "Figure 2 shows morphometric measures plotted across individual slices with vertebral levels identified on the plot. Values were calculated as mean and standard deviation across 203 participants for each slice in the PAM50 space."
   ]
  },
  {
   "cell_type": "code",
   "execution_count": null,
   "metadata": {
    "tags": [
     "report-output",
     "hide-input"
    ]
   },
   "outputs": [],
   "source": [
    "import os\n",
    "from IPython.display import display, HTML\n",
    "from plotly.offline import plot\n",
    "\n",
    "cwd = os.getcwd()\n",
    "os.chdir('analysis/notebooks')\n",
    "from utils import read_metrics, create_subplot\n",
    "os.chdir(cwd)\n",
    "\n",
    "# Define path to the CSV file\n",
    "path_csv = '../data/PAM50-normalized-metrics-neurolibre/PAM50-normalized-metrics-neurolibre/spine-generic_subjects_aggregated_metrics.csv'\n",
    "# Read the CSV file\n",
    "df = read_metrics(path_csv)\n",
    "\n",
    "# Render plotly output in Jupyter Book\n",
    "figure2 = create_subplot(df, output='html')\n",
    "plot(figure2, filename = 'figure2.html')\n",
    "display(HTML('figure2.html'))"
   ]
  },
  {
   "cell_type": "markdown",
   "metadata": {},
   "source": [
    "<p></p>\n",
    "\n",
    "<p class=\"caption\">\n",
    "<b>FIGURE 2</b> Spinal cord morphometric measures of 203 healthy participants across slices from C1 to T1 vertebral level. \n",
    "</p>"
   ]
  },
  {
   "cell_type": "markdown",
   "metadata": {},
   "source": [
    "Figure 3 shows a scatter plot for COV for each morphometric measure plotted across individual slices with vertebral levels identified on the plot. The figure also shows the mean COV for each vertebral level and the mean and standard deviation COV averaged across all slices. CSA demonstrated the highest mean COV  of 11.7 ± 1.4%; on the other hand, solidity presented the lowest mean COV of 1.2 ± 0.2%."
   ]
  },
  {
   "cell_type": "code",
   "execution_count": null,
   "metadata": {
    "tags": [
     "report-output",
     "hide-input"
    ]
   },
   "outputs": [],
   "source": [
    "import os\n",
    "from IPython.display import display, HTML\n",
    "from plotly.offline import plot\n",
    "\n",
    "cwd = os.getcwd()\n",
    "os.chdir('analysis/notebooks')\n",
    "from utils import read_metrics, create_regplot\n",
    "os.chdir(cwd)\n",
    "\n",
    "# Define path to the CSV file\n",
    "path_csv = '../data/PAM50-normalized-metrics-neurolibre/PAM50-normalized-metrics-neurolibre/spine-generic_subjects_aggregated_metrics.csv'\n",
    "# Read the CSV file\n",
    "df = read_metrics(path_csv)\n",
    "\n",
    "# Render plotly output in Jupyter Book\n",
    "figure3 = create_regplot(df, show_cv=True, output='html')\n",
    "plot(figure3, filename = 'figure3.html')\n",
    "display(HTML('figure3.html'))"
   ]
  },
  {
   "cell_type": "markdown",
   "metadata": {},
   "source": [
    "<p></p>\n",
    "\n",
    "<p class=\"caption\">\n",
    "<b>FIGURE 3</b> Coefficient of variation (COV) for individual morphometrics measures of 203 healthy participants across slices from C1 to T1 vertebral level. The mean COV for each vertebral level and the mean and standard deviation COV averaged across all slices are also shown. \n",
    "</p>"
   ]
  },
  {
   "cell_type": "markdown",
   "metadata": {},
   "source": [
    "## 3.2 Morphometric measures - Influence of sex\n",
    "\n",
    "\n",
    "Figure 4 presents morphometric measures plotted across individual slices with vertebral levels identified on the plot separated per sex (males: N = 105, females: N = 98). Values were calculated as mean and standard deviation across 203 participants for each slice in PAM50 space. Wilcoxon rank-sum test showed significant differences (`p < .001`) between males and females for CSA, AP diameter and transverse diameter."
   ]
  },
  {
   "cell_type": "code",
   "execution_count": null,
   "metadata": {
    "tags": [
     "report-output",
     "hide-input"
    ]
   },
   "outputs": [],
   "source": [
    "import os\n",
    "from IPython.display import display, HTML\n",
    "from plotly.offline import plot\n",
    "\n",
    "cwd = os.getcwd()\n",
    "os.chdir('analysis/notebooks')\n",
    "from utils import read_metrics, create_subplot_hue\n",
    "os.chdir(cwd)\n",
    "\n",
    "# Define path to the CSV file\n",
    "path_csv = '../data/PAM50-normalized-metrics-neurolibre/PAM50-normalized-metrics-neurolibre/spine-generic_subjects_aggregated_metrics.csv'\n",
    "# Read the CSV file\n",
    "df = read_metrics(path_csv)\n",
    "\n",
    "# Render plotly output in Jupyter Book\n",
    "figure4 = create_subplot_hue(df, hue='sex', output='html')\n",
    "plot(figure4, filename = 'figure4.html')\n",
    "display(HTML('figure4.html'))"
   ]
  },
  {
   "cell_type": "markdown",
   "metadata": {},
   "source": [
    "<p></p>\n",
    "\n",
    "<p class=\"caption\">\n",
    "<b>FIGURE 4</b> Spinal cord morphometrics measures of 203 healthy participants separated per sex (males: N = 105, females: N = 98) across slices from C1 to T1 vertebral level. You can show or hide traces by clicking on their corresponding legend items. \n",
    "</p>"
   ]
  },
  {
   "cell_type": "markdown",
   "metadata": {},
   "source": [
    "## 3.3 Morphometric measures - Influence of MRI vendor\n",
    "\n",
    "\n",
    "Figure 5 shows morphometric measures plotted across individual slices with vertebral levels identified on the plot separated for three MRI vendors (GE: N = 28, Philips: N = 36, Siemens: N = 139). Values were calculated as mean and standard deviation across 203 participants for each slice in the PAM50 space. Wilcoxon rank-sum test showed significant differences (`p < .001`) for the following comparisons: Siemens vs. Philips and Siemens vs. GE for CSA and AP diameter, Siemens vs. Philips for transverse diameter, and Siemens vs. Philips and Philips vs. GE for compression ratio, eccentricity and solidity."
   ]
  },
  {
   "cell_type": "code",
   "execution_count": null,
   "metadata": {
    "tags": [
     "report-output",
     "hide-input"
    ]
   },
   "outputs": [],
   "source": [
    "import os\n",
    "from IPython.display import display, HTML\n",
    "from plotly.offline import plot\n",
    "\n",
    "cwd = os.getcwd()\n",
    "os.chdir('analysis/notebooks')\n",
    "from utils import read_metrics, create_subplot_hue\n",
    "os.chdir(cwd)\n",
    "\n",
    "# Define path to the CSV file\n",
    "path_csv = '../data/PAM50-normalized-metrics-neurolibre/PAM50-normalized-metrics-neurolibre/spine-generic_subjects_aggregated_metrics.csv'\n",
    "# Read the CSV file\n",
    "df = read_metrics(path_csv)\n",
    "\n",
    "# Render plotly output in Jupyter Book\n",
    "figure5 = create_subplot_hue(df, hue='vendor', output='html')\n",
    "plot(figure5, filename = 'figure5.html')\n",
    "display(HTML('figure5.html'))"
   ]
  },
  {
   "cell_type": "markdown",
   "metadata": {},
   "source": [
    "<p></p>\n",
    "\n",
    "<p class=\"caption\">\n",
    "<b>FIGURE 5</b> Spinal cord morphometrics measures of 203 healthy participants separated per MRI vendor (GE: N = 28, Philips: N = 36, Siemens: N = 139) across slices from C1 to T1 vertebral level. You can show or hide traces by clicking on their corresponding legend items. \n",
    "</p>"
   ]
  },
  {
   "cell_type": "markdown",
   "metadata": {},
   "source": [
    "## 3.4 Morphometric measures - Influence of age\n",
    "\n",
    "\n",
    "Figure 6 depicts morphometric measures plotted across individual slices with vertebral levels identified on the plot separated into five age decades. Values were calculated as mean and standard deviation across 203 participants for each slice in PAM50 space. Note that the groups are highly unbalanced (10-20 decade: N = 4, 21-30 decade: N = 135, 31-40 decade: N = 53, 41-50 decade: N = 8, 51-60 decade: N = 1). For this reason, we did not perform the statistical comparison among the age decades. The interactive figure serves as a framework for adding better-distributed data in the future for a more informative exploration of the impact of age on spinal cord morphometrics. "
   ]
  },
  {
   "cell_type": "code",
   "execution_count": null,
   "metadata": {
    "tags": [
     "report-output",
     "hide-input"
    ]
   },
   "outputs": [],
   "source": [
    "import os\n",
    "from IPython.display import display, HTML\n",
    "from plotly.offline import plot\n",
    "\n",
    "cwd = os.getcwd()\n",
    "os.chdir('analysis/notebooks')\n",
    "from utils import read_metrics, create_subplot_hue\n",
    "os.chdir(cwd)\n",
    "\n",
    "# Define path to the CSV file\n",
    "path_csv = '../data/PAM50-normalized-metrics-neurolibre/PAM50-normalized-metrics-neurolibre/spine-generic_subjects_aggregated_metrics.csv'\n",
    "# Read the CSV file\n",
    "df = read_metrics(path_csv)\n",
    "\n",
    "# Render plotly output in Jupyter Book\n",
    "figure6 = create_subplot_hue(df, hue='age', output='html')\n",
    "plot(figure6, filename = 'figure6.html')\n",
    "display(HTML('figure6.html'))"
   ]
  },
  {
   "cell_type": "markdown",
   "metadata": {},
   "source": [
    "<p></p>\n",
    "\n",
    "<p class=\"caption\">\n",
    "<b>FIGURE 5</b> Spinal cord morphometrics measures of 203 healthy participants separated into five different age groups (10-20 decade: N = 4, 21-30 decade: N = 135, 31-40 decade: N = 53, 41-50 decade: N = 8, 51-60 decade: N = 1) across slices from C1 to T1 vertebral level. You can show or hide traces by clicking on their corresponding legend items. \n",
    "</p>"
   ]
  },
  {
   "cell_type": "markdown",
   "metadata": {},
   "source": [
    "## 3.5 Normative values\n",
    "\n",
    "\n",
    "The normalized morphometric measures saved as comma-separated value (CSV) files (one file per subject) are accessible on [GitHub](https://github.com/spinalcordtoolbox/PAM50-normalized-metrics/tree/r20230904) (release: `r20230904`).\n",
    "\n",
    "The normalization method is implemented in the Python programming language and is available through the SCT’s `sct_process_segmentation` as part of SCT `v6.0` and higher.\n",
    "\n",
    "Table 2 shows normative values for the whole cohort calculated as the mean and standard deviation across all 203 subjects. Values are shown for slices in PAM50 space corresponding to the middle of each vertebral level and each intervertebral disc."
   ]
  },
  {
   "cell_type": "code",
   "execution_count": null,
   "metadata": {
    "tags": [
     "report-output",
     "hide-input"
    ]
   },
   "outputs": [],
   "source": [
    "import os\n",
    "from IPython.display import display, HTML\n",
    "from plotly.offline import plot\n",
    "\n",
    "cwd = os.getcwd()\n",
    "os.chdir('analysis/notebooks')\n",
    "from tables import table_normative_values\n",
    "os.chdir(cwd)\n",
    "\n",
    "# Define path to the CSV file\n",
    "path_csv = '../data/PAM50-normalized-metrics-neurolibre/PAM50-normalized-metrics-neurolibre/table_2-normative_values_whole_cohort_203_subjects.csv'\n",
    "\n",
    "# Render plotly output in Jupyter Book\n",
    "table2 = table_normative_values(path_csv, output='html')\n",
    "plot(table2, filename = 'table2.html')\n",
    "display(HTML('table2.html'))"
   ]
  },
  {
   "cell_type": "markdown",
   "metadata": {},
   "source": [
    "<p class=\"caption\">\n",
    "<b>TABLE 2</b> Normative values of 203 healthy participants. Values are shown as mean and standard deviation for slices in PAM50 space corresponding to the middle of each vertebral level and each intervertebral disc. \n",
    "</p>"
   ]
  },
  {
   "cell_type": "markdown",
   "metadata": {},
   "source": [
    "Table 3 and Table 4 show normative values separated for sex calculated as the mean and standard deviation for 105 males and 98 females. Values are shown for slices in PAM50 space corresponding to the middle of each vertebral level and each intervertebral disc."
   ]
  },
  {
   "cell_type": "code",
   "execution_count": null,
   "metadata": {
    "tags": [
     "report-output",
     "hide-input"
    ]
   },
   "outputs": [],
   "source": [
    "import os\n",
    "from IPython.display import display, HTML\n",
    "from plotly.offline import plot\n",
    "\n",
    "cwd = os.getcwd()\n",
    "os.chdir('analysis/notebooks')\n",
    "from tables import table_normative_values\n",
    "os.chdir(cwd)\n",
    "\n",
    "# Define path to the CSV file\n",
    "path_csv = '../data/PAM50-normalized-metrics-neurolibre/PAM50-normalized-metrics-neurolibre/table_3-normative_values_105_males.csv'\n",
    "\n",
    "# Render plotly output in Jupyter Book\n",
    "table3 = table_normative_values(path_csv, output='html')\n",
    "plot(table3, filename = 'table3.html')\n",
    "display(HTML('table3.html'))"
   ]
  },
  {
   "cell_type": "markdown",
   "metadata": {},
   "source": [
    "<p class=\"caption\">\n",
    "<b>TABLE 3</b> Normative values of 105 healthy males. Values are shown as mean and standard deviation for slices in PAM50 space corresponding to the middle of each vertebral level and each intervertebral disc.\n",
    "</p>"
   ]
  },
  {
   "cell_type": "code",
   "execution_count": null,
   "metadata": {
    "tags": [
     "report-output",
     "hide-input"
    ]
   },
   "outputs": [],
   "source": [
    "import os\n",
    "from IPython.display import display, HTML\n",
    "from plotly.offline import plot\n",
    "\n",
    "cwd = os.getcwd()\n",
    "os.chdir('analysis/notebooks')\n",
    "from tables import table_normative_values\n",
    "os.chdir(cwd)\n",
    "\n",
    "# Define path to the CSV file\n",
    "path_csv = '../data/PAM50-normalized-metrics-neurolibre/PAM50-normalized-metrics-neurolibre/table_4-normative_values_98_females.csv'\n",
    "\n",
    "# Render plotly output in Jupyter Book\n",
    "table4 = table_normative_values(path_csv, output='html')\n",
    "plot(table4, filename = 'table4.html')\n",
    "display(HTML('table4.html'))"
   ]
  },
  {
   "cell_type": "markdown",
   "metadata": {},
   "source": [
    "<p class=\"caption\">\n",
    "<b>TABLE 4</b> Normative values of 98 healthy females. Values are shown as mean and standard deviation for slices in PAM50 space corresponding to the middle of each vertebral level and each intervertebral disc.\n",
    "</p>"
   ]
  },
  {
   "cell_type": "markdown",
   "metadata": {},
   "source": [
    "# 4. DISCUSSION\n",
    "\n",
    "\n",
    "This study introduced a framework to automatically normalize spinal cord morphometric measures and computed normative metrics from a public database of healthy adults. Normative values were reported in the PAM50 template reference space, which facilitates the comparison of results across past and future studies. Metrics were presented as interactive figures, allowing readers to conveniently explore morphometric values and filter them according to sex, MRI vendor, and age.\n",
    "\n",
    "\n",
    "## 4.1 Participants\n",
    "\n",
    "\n",
    "Assessment of the _spine-generic_ MRI scans by two experienced radiologists revealed mild spinal cord compression in 24% of volunteers. This finding aligns with previous studies that have reported the prevalence of asymptomatic spinal cord compression in up to 40% of the otherwise healthy population {cite:p}`Kovalova2016-ra,Smith2021-mh`. Given our objective of constructing a database containing healthy normative morphometric values to minimize variability in future research, we excluded the subjects with mild compression to mitigate potential bias.\n",
    "\n",
    "\n",
    "## 4.2 Normalization to PAM50 anatomical dimensions\n",
    "\n",
    "\n",
    "The proposed normalization approach is performed per slice (instead of per vertebral level), providing a more exhaustive picture of cord morphometry along the superior-inferior axis. Moreover, precise quantification of cord morphometry along the superior-inferior axis could be relevant. For example, in the case of compression spanning only a few mm of cord tissue, it would be desirable to know the cord morphometry on the healthy population at the equivalent spinal cord location (ie: not the entire vertebrae, but a smaller section).\n",
    "\n",
    "\n",
    "Compared to classical image-based registration, our normalization approach does not introduce geometrical image distortions, which may result in inaccuracies when computing morphometric measures. Traditional registration to the PAM50 template involves spinal cord straightening, vertebral alignment between the image and the template, and iterative slice-wise non-linear registration {cite:p}`DeLeener2017-fe`. Each of these steps might change the spinal cord shape and contour (see a relevant [issue on GitHub](https://github.com/sct-pipeline/dcm-metric-normalization/issues/3)).\n",
    "\n",
    "\n",
    "## 4.3 Interactive figures and Normative database\n",
    "\n",
    "\n",
    "Unlike previous studies {cite:p}`DeLeener2018-zm,Horakova2022-gz,Kato2012-iy,Taso2016-cv` that presented normative values using \"static\" tables, our paper features interactive figures for a more exhaustive and convenient exploration of morphometric results.  \n",
    "\n",
    "\n",
    "Furthermore, previous studies, such as those conducted by {cite:p}`DeLeener2018-zm,Taso2016-cv,Kato2012-iy`, only provided normative values for CSA and AP diameter. Only one recent study {cite:p}`Horakova2022-gz` also featured transverse diameter, compression ratio, solidity, and torsion. Results presented in this study feature morphometric values for all six metrics simultaneously, offering a convenient way to explore the relationship between individual morphometric measures. This could be particularly useful for assessing changes in spinal anatomy between levels or for identifying levels of spinal cord compression. Additionally, researchers have the option to show or hide traces by clicking on their corresponding legend items, allowing for easy exploration of trends related to sex, age decades, and MRI vendors.\n",
    "\n",
    "\n",
    "The proposed open-source database of normative values in the PAM50 space allows researchers to filter subjects based on demographic and biological factors. Researchers can thus match sex, age, and MRI vendor with their study population and use our database for normalization of their cohort relative to the healthy population with respect to these factors. This is a relevant feature since normalization per sex is the most commonly used normalization factor for spinal cord morphometric measures {cite:p}`Bedard2022-tr,Kesenheimer2021-vw,Mina2021-xs,Papinutto2020-hn,Rashid2006-ar,Rocca2019-yc`. \n",
    "\n",
    "\n",
    "## 4.4 Morphometric measures\n",
    "\n",
    "\n",
    "The CSA values obtained in this study for individual intervertebral discs are in line with CSA measured in 50 healthy subjects {cite:p}`DeLeener2018-zm`. For instance, we measured a CSA of 76.61 ± 8.35 mm<sup>2</sup> (mean ± standard deviation) for the C3-C4 intervertebral disc, while {cite:t}`DeLeener2018-zm` obtained 77.46 ± 8.45 mm<sup>2</sup> for the same intervertebral disc. In contrast, other studies reported either smaller or larger CSA for the same C3-C4 intervertebral disc. For example, {cite:t}`Horakova2022-gz` obtained a CSA of 71.7 ± 8.2 mm<sup>2</sup>, while {cite:t}`Kesenheimer2021-vw` measured a CSA of 87.4 ± 8.31 mm<sup>2</sup>. This can be attributed to various factors, including differences in MRI contrast, variations in population ages, and variations in the segmentation methods used.\n",
    "\n",
    "Another study based on the UK Biobank database (N = 804) measured a CSA of 66.4 ± 6.61 mm<sup>2</sup> at C2-C3 vertebral levels {cite:p}`Bedard2022-tr`. Here, we measured larger CSAs: 73.59 ± 7.41 mm<sup>2</sup> at C2 and 74.32 ± 7.91 mm<sup>2</sup> at C3 vertebral levels. This discrepancy is likely caused by our study relying on T2-w images, whilst Bédard and Cohen-Adad used T1-w images {cite:p}`Bedard2022-tr`. It has been shown that T2-w scans generally yield larger CSA compared to T1-w scans {cite:p}`Cohen2021-open`.\n",
    "\n",
    "As for AP diameter and transverse diameter, values measured in this study correspond with population estimates from {cite:t}`Frostell2016-yw`. For instance, we measured an AP diameter of 7.86 ± 0.56 mm and a transverse diameter of 11.9 ± 0.76 mm for the C2 vertebral level, while {cite:t}`Frostell2016-yw` reported an AP diameter of 7.9 ± 1.6 mm and a transverse diameter of 12.3 ± 2.4 mm for the same vertebral level.\n",
    "\n",
    "\n",
    "Confirming previous studies {cite:p}`Bedard2022-tr,Engl2013-xx,Papinutto2020-hn,Rashid2006-ar,Solstrand2020-xz,Yanase2006-xz`, we showed that females have smaller CSA relative to males across all vertebral levels. Smaller spinal cord size is also mirrored by lower AP and transverse diameters in females compared to males.\n",
    "\n",
    "The increase in CSA around levels C4-C5 indicates the location of cervical enlargement, the source of the large spinal nerves that supply the upper limbs. This finding is consistent with anatomical textbooks {cite:p}`Standring2020-er` and previous studies {cite:p}`DeLeener2018-zm,Frostell2016-yw,Horakova2022-gz,Martin2017-zu,Mina2021-xs,Rocca2019-yc`. After the cervical enlargement (i.e., below level C5), the spinal cord becomes smaller, which is mirrored by the decrease in CSA, AP diameter, and transverse diameter. The decrease in AP diameter along the superior-inferior direction, along with the changing trends in compression ratio and eccentricity, corresponds to the fact that the spinal cord is not cylindrical but rather changes its shape across levels from circular shape at C1 and C2 levels to a more elliptical shape around levels C5 and C6 {cite:p}`Standring2020-er`.\n",
    "\n",
    "Because various morphometric measures exhibited differing levels of inter-subject variability (indicated by COV), we hypothesize that normalizing measures with greater inter-subject variability, such as CSA, would yield a more pronounced impact compared to normalizing measures with lower inter-subject variability, such as solidity. We measured a COV of 10.1% and 10.8% for the CSA at the C2 and C3 vertebral levels, respectively. These values are similar to the 9.96% COV reported by Bédard and Cohen-Adad for T1-w images at the C2-C3 level {cite:p}`Bedard2022-tr`.\n",
    "\n",
    "The variability of morphometric measures between MRI vendors might be explained by differences in sequence parameters and/or reconstruction filters between vendors {cite:p}`Cohen2021-open`."
   ]
  },
  {
   "cell_type": "markdown",
   "metadata": {},
   "source": [
    "## 4.5 Limitations and Future Work\n",
    "\n",
    "\n",
    "The T2-w images from the open-access _spine-generic_ dataset cover only the cervical spinal cord and have a relatively narrow age range (with 93.6% of subjects aged 21 to 40 years). Despite this limitation, it remains the largest open-source database of multi-contrast spinal cord MRI data. We welcome future contributions of additional subjects across different age groups and with data that encompasses the entire spinal cord. \n",
    "\n",
    "We are aware that the morphometric measures were derived solely from T2-w MRI contrast and using the segmentation method trained specifically for this contrast {cite:p}`Gros2019-yi`. This has to be considered when comparing with other MRI contrasts, such as T1-w, which showed a smaller CSA compared to T2-w {cite:p}`Cohen2021-open`. This might be mitigated in the future using a contrast-agnostic segmentation algorithm {cite:p}`Bedard2023-kb`.\n",
    "\n",
    "Future efforts will focus on validating the proposed methods in pathologies such as traumatic and non-traumatic spinal cord injury and multiple sclerosis. This validation process will provide valuable insights into the applicability and accuracy of the methods in the context of various spinal cord conditions.\n",
    "\n",
    "\n",
    "## 4.6 Conclusions\n",
    "\n",
    "We introduced a new approach for the normalization of spinal cord morphometric measures using the PAM50 spinal cord template. We built an interactive database of spinal cord morphometric values across 203 healthy adults. The database can be used to normalize spinal cord morphometric features, stratified according to factors such as sex, age, and MRI vendors. This database can also be used to further inspect demographic, biological and image acquisition factors associated with inter-subject variability. \n",
    "\n",
    "The proposed methodology and results are open-source and fully reproducible. The database and normalization method is applicable to new datasets via the Spinal Cord Toolbox (SCT) `v6.0` and higher."
   ]
  },
  {
   "cell_type": "markdown",
   "metadata": {},
   "source": [
    "# DATA AVAILABILITY STATEMENT\n",
    "\n",
    "\n",
    "In order to facilitate reproducibility and open science principles, all codes, processing scripts, and results are shared as open-source and freely available to the whole community. The anonymized and defaced <i>spine-generic</i> dataset is organized according to the BIDS standard and managed using git-annex in the following GitHub repository: <a href=\"https://github.com/spine-generic/data-multi-subject/tree/r20230223\">https://github.com/spine-generic/data-multi-subject/tree/r20230223</a> (release: `r20230223`). The processing used to compute morphometric measures of individual subjects in the PAM50 template space is available in this GitHub repository: <a href=\"https://github.com/sct-pipeline/dcm-metric-normalization/blob/r20230222/scripts/process_data_spine-generic.sh\">https://github.com/sct-pipeline/dcm-metric-normalization/blob/r20230222/scripts/process_data_spine-generic.sh</a> (release: `r20230223`). The computed morphometric measures in CSV format are available in this GitHub repository: <a href=\"https://github.com/spinalcordtoolbox/PAM50-normalized-metrics/tree/r20230904\">https://github.com/spinalcordtoolbox/PAM50-normalized-metrics/tree/r20230904</a> (release: `r20230223`). The normalization method is available through the `sct_process_segmentation` function as part of the Spinal Cord Toolbox (SCT) `v6.0` and higher: <a href=\"https://github.com/spinalcordtoolbox/spinalcordtoolbox/tree/6.0\">https://github.com/spinalcordtoolbox/spinalcordtoolbox/tree/6.0</a>. The interactive figures in this article were produced using the NeuroLibre publication workflow and powered by Plotly (<a href=\"https://plotly.com\">https://plotly.com</a>)."
   ]
  },
  {
   "cell_type": "markdown",
   "metadata": {},
   "source": [
    "# ACKNOWLEDGEMENT\n",
    "\n",
    "\n",
    "We thank Nick Guenther and Mathieu Guay-Paquet for their assistance with dataset management, Joshua Newton for his help with implementing the algorithm in SCT, and Allan R. Martin for his insightful discussions on the clinical aspects of the work. We also thank Nathan Molinier for providing valuable feedback on the manuscript figures. We acknowledge all participants as well as collaborators of the <i>spine-generic</i> study (<a href=\"https://spine-generic.readthedocs.io\">https://spine-generic.readthedocs.io</a>)."
   ]
  },
  {
   "cell_type": "markdown",
   "metadata": {},
   "source": [
    "# FUNDING\n",
    "\n",
    "\n",
    "Funded by the Canada Research Chair in Quantitative Magnetic Resonance Imaging [CRC-2020-00179], the Canadian Institute of Health Research [PJT-190258], the Canada Foundation for Innovation [32454, 34824], the Fonds de Recherche du Québec - Santé [322736], the Natural Sciences and Engineering Research Council of Canada [RGPIN-2019-07244], the Canada First Research Excellence Fund (IVADO and TransMedTech), the Courtois NeuroMod project, the Quebec BioImaging Network [5886, 35450], INSPIRED (Spinal Research, UK; Wings for Life, Austria; Craig H. Neilsen Foundation, USA), Mila - Tech Transfer Funding Program. Supported by the Ministry of Health of the Czech Republic, grant nr. NU22-04-00024. All rights reserved. JV has received funding from the European Union's Horizon Europe research and innovation programme under the Marie Sktodowska-Curie grant agreement No 101107932."
   ]
  },
  {
   "cell_type": "markdown",
   "metadata": {},
   "source": [
    "```{bibliography}\n",
    ":filter: docname in docnames\n",
    "```"
   ]
  }
 ],
 "metadata": {
  "celltoolbar": "Edit Metadata",
  "kernelspec": {
   "display_name": "Python 3 (ipykernel)",
   "language": "python",
   "name": "python3"
  },
  "language_info": {
   "codemirror_mode": {
    "name": "ipython",
    "version": 3
   },
   "file_extension": ".py",
   "mimetype": "text/x-python",
   "name": "python",
   "nbconvert_exporter": "python",
   "pygments_lexer": "ipython3",
   "version": "3.8.16"
  }
 },
 "nbformat": 4,
 "nbformat_minor": 4
}
